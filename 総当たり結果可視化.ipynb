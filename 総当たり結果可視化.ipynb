{
 "cells": [
  {
   "cell_type": "code",
   "execution_count": null,
   "metadata": {},
   "outputs": [],
   "source": [
    "import numpy as np\n",
    "%matplotlib inline\n",
    "import matplotlib.pyplot as plt\n",
    "\n",
    "from count import *"
   ]
  },
  {
   "cell_type": "code",
   "execution_count": null,
   "metadata": {},
   "outputs": [],
   "source": [
    "def score_diff_hist(data):\n",
    "    hist = {}\n",
    "    for (a, b), c in data.items():\n",
    "        hist[a - b] = hist.get(a - b, 0) + c\n",
    "    xx = np.arange(min(hist), max(hist) + 1)\n",
    "    return xx, np.array([hist.get(x, 0) for x in xx])"
   ]
  },
  {
   "cell_type": "code",
   "execution_count": null,
   "metadata": {},
   "outputs": [],
   "source": [
    "def hoshitori(data_set, offset=0):\n",
    "    hoshi_a = {}\n",
    "    hoshi_b = {}\n",
    "    for (name_a, name_b), data in data_set.items():\n",
    "        if name_a not in hoshi_a:\n",
    "            hoshi_a[name_a] = [0, 0, 0]\n",
    "        if name_b not in hoshi_b:\n",
    "            hoshi_b[name_b] = [0, 0, 0]\n",
    "        for (sa, sb), c in data.items():\n",
    "            score = sa - (sb + offset)\n",
    "            if score == 0:\n",
    "                hoshi_a[name_a][2] += c\n",
    "                hoshi_b[name_b][2] += c\n",
    "            elif score > 0:\n",
    "                hoshi_a[name_a][0] += c\n",
    "                hoshi_b[name_b][1] += c\n",
    "            else:\n",
    "                hoshi_a[name_a][1] += c\n",
    "                hoshi_b[name_b][0] += c\n",
    "    return hoshi_a, hoshi_b\n",
    "\n",
    "def order_hoshi_by_win_rate(hoshi):\n",
    "    for name in sorted(hoshi, key=lambda n: hoshi[n][0] / sum(hoshi[n]), reverse=True):\n",
    "        h = hoshi[name]\n",
    "        print(name, h, h[0] / sum(h))"
   ]
  },
  {
   "cell_type": "code",
   "execution_count": null,
   "metadata": {},
   "outputs": [],
   "source": [
    "import texttable\n",
    "\n",
    "def to_table(data_set):\n",
    "    names = list(set([name for name, _ in data_set]) | set([name for _, name in data_set]))\n",
    "    names.sort()\n",
    "\n",
    "    table = texttable.Texttable(max_width=500)\n",
    "    table.set_cols_align(['l'] * (len(names) + 2))\n",
    "    table.add_row([''] + names + [''])\n",
    "    for name1 in names:\n",
    "        row = [name1]\n",
    "        total_win = total_lose = total_draw = 0\n",
    "        for name2 in names:\n",
    "            win = lose = draw = 0\n",
    "            for (sa, sb), c in data_set.get((name1, name2), {}).items():\n",
    "                if sa > sb:\n",
    "                    win += c\n",
    "                elif sa < sb:\n",
    "                    lose += c\n",
    "                else:\n",
    "                    draw += c\n",
    "            total = win + lose + draw\n",
    "            if total:\n",
    "                row.append(f'{win}-{lose}-{draw}\\n({100 * win / total:.1f})')\n",
    "            else:\n",
    "                row.append('')\n",
    "            total_win += win\n",
    "            total_lose += lose\n",
    "            total_draw += draw\n",
    "        total = total_win + total_lose + total_draw\n",
    "        if total:\n",
    "            row.append(f'{total_win}-{total_lose}-{total_draw}\\n({100 * total_win / total:.1f})')\n",
    "        else:\n",
    "            row.append('')\n",
    "        table.add_row(row)\n",
    "    \n",
    "    row = ['']\n",
    "    for name1 in names:\n",
    "        win = lose = draw = 0\n",
    "        for name2 in names:\n",
    "            for (sa, sb), c in data_set.get((name2, name1), {}).items():\n",
    "                if sa < sb:\n",
    "                    win += c\n",
    "                elif sa > sb:\n",
    "                    lose += c\n",
    "                else:\n",
    "                    draw += c\n",
    "        total = win + lose + draw\n",
    "        if total:\n",
    "            row.append(f'{win}-{lose}-{draw}\\n({100 * win / total:.1f})')\n",
    "        else:\n",
    "            row.append('')\n",
    "    row.append('')\n",
    "    table.add_row(row)\n",
    "    return table.draw()"
   ]
  },
  {
   "cell_type": "code",
   "execution_count": null,
   "metadata": {},
   "outputs": [],
   "source": [
    "data = {}\n",
    "for f in Path('.').glob('*.txt'):\n",
    "    count(f, data)\n",
    "\n",
    "hoshi_a, hoshi_b = hoshitori(data, offset=0)"
   ]
  },
  {
   "cell_type": "code",
   "execution_count": null,
   "metadata": {},
   "outputs": [],
   "source": [
    "order_hoshi_by_win_rate(hoshi_a)"
   ]
  },
  {
   "cell_type": "code",
   "execution_count": null,
   "metadata": {},
   "outputs": [],
   "source": [
    "order_hoshi_by_win_rate(hoshi_b)"
   ]
  },
  {
   "cell_type": "code",
   "execution_count": null,
   "metadata": {
    "scrolled": false
   },
   "outputs": [],
   "source": [
    "print(to_table(data))"
   ]
  }
 ],
 "metadata": {
  "kernelspec": {
   "display_name": "Python 3",
   "language": "python",
   "name": "python3"
  },
  "language_info": {
   "codemirror_mode": {
    "name": "ipython",
    "version": 3
   },
   "file_extension": ".py",
   "mimetype": "text/x-python",
   "name": "python",
   "nbconvert_exporter": "python",
   "pygments_lexer": "ipython3",
   "version": "3.9.0"
  }
 },
 "nbformat": 4,
 "nbformat_minor": 2
}
